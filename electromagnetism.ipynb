{
 "cells": [
  {
   "cell_type": "code",
   "execution_count": 31,
   "id": "64a91dc0",
   "metadata": {
    "ExecuteTime": {
     "end_time": "2022-11-30T15:38:33.444900Z",
     "start_time": "2022-11-30T15:38:32.618458Z"
    }
   },
   "outputs": [],
   "source": [
    "import requests\n",
    "from requests_html import HTMLSession\n",
    "import csv\n",
    "\n",
    "json_data = {\n",
    "    'id': 'a58d5d15-14ea-41bd-9556-9eb98f28ed86',\n",
    "    'idConjuntoDados': 'e0a0a7d2-5a9e-4b3c-8bed-cc6b1d46bff3',\n",
    "    'titulo': 'Medições de Campo Eletromagnético (2016 em diante)',\n",
    "    'descricao': 'Dados das medições de campos eletromagnéticos realizados pelas prestadoras de serviços de telecomunicações e pela Agência Nacional de Telecomunicações – Anatel (Dados de 2016 em diante).',\n",
    "    'link': 'https://www.anatel.gov.br\\\\dadosabertos\\\\PDA\\\\Medicoes_Campo_Eletromagnetico\\\\Medicoes_de_Campos_Eletromagneticos_2016-2020.csv',\n",
    "    'formato': 'csv',\n",
    "    'tipo': None,\n",
    "}\n",
    "\n",
    "with requests.Session() as s:\n",
    "    download = s.post('https://dados.gov.br/api/publico/recurso/registrar-download', data = json_data)\n",
    "\n",
    "    decoded_content = download.content.decode('utf-8')\n",
    "    with open('meuarquivo.csv', 'wb') as s:\n",
    "        s.write(download.content)\n",
    "#     cr = csv.reader(decoded_content.splitlines(), delimiter=',')\n",
    "#     my_list = list(cr)\n",
    "#     for row in my_list:\n",
    "#         print(row)\n",
    "\n",
    "\n",
    "# response = requests.post('https://dados.gov.br/api/publico/recurso/registrar-download', data = json_data)\n",
    "# data = response.content\n",
    "# path = 'meuarquivo'\n",
    "# with open(path, 'wb') as s:\n",
    "#     s.write(data)\n",
    "\n",
    "# # cookies = {\n",
    "# #     '_ga': 'GA1.1.262665425.1667697301',\n",
    "# #     '_ga_HVQVE1EE4Y': 'GS1.1.1669809395.2.1.1669811484.0.0.0',\n",
    "# # }\n",
    "# s = HTMLSession()\n",
    "# url = \"https://dados.gov.br\"\n",
    "# s.get(url)\n",
    "# # cookies = s.cookies\n",
    "\n",
    "# headers = {\n",
    "#     'authority': 'dados.gov.br',\n",
    "#     'accept': 'application/json, text/plain, */*',\n",
    "#     'accept-language': 'pt-BR,pt;q=0.9,en-US;q=0.8,en;q=0.7',\n",
    "#     'content-type': 'application/json;charset=UTF-8',\n",
    "#     # Requests sorts cookies= alphabetically\n",
    "#     # 'cookie': '_ga=GA1.1.262665425.1667697301; _ga_HVQVE1EE4Y=GS1.1.1669809395.2.1.1669811484.0.0.0',\n",
    "#     'origin': 'https://dados.gov.br',\n",
    "#     'referer': 'https://dados.gov.br/dados/conjuntos-dados/medicoes-de-campos-eletromagneticos1',\n",
    "#     'sec-ch-ua': '\"Google Chrome\";v=\"107\", \"Chromium\";v=\"107\", \"Not=A?Brand\";v=\"24\"',\n",
    "#     'sec-ch-ua-mobile': '?0',\n",
    "#     'sec-ch-ua-platform': '\"Windows\"',\n",
    "#     'sec-fetch-dest': 'empty',\n",
    "#     'sec-fetch-mode': 'cors',\n",
    "#     'sec-fetch-site': 'same-origin',\n",
    "#     'user-agent': 'Mozilla/5.0 (Windows NT 10.0; Win64; x64) AppleWebKit/537.36 (KHTML, like Gecko) Chrome/107.0.0.0 Safari/537.36',\n",
    "# }\n",
    "\n",
    "\n",
    "\n",
    "# response = requests.post('https://dados.gov.br/api/publico/recurso/registrar-download', headers=headers, json=json_data)\n",
    "\n",
    "# response.text\n",
    "# # Note: json_data will not be serialized by requests\n",
    "# # exactly as it was in the original request.\n",
    "# #data = '{\"id\":\"a58d5d15-14ea-41bd-9556-9eb98f28ed86\",\"idConjuntoDados\":\"e0a0a7d2-5a9e-4b3c-8bed-cc6b1d46bff3\",\"titulo\":\"Medições de Campo Eletromagnético (2016 em diante)\",\"descricao\":\"Dados das medições de campos eletromagnéticos realizados pelas prestadoras de serviços de telecomunicações e pela Agência Nacional de Telecomunicações – Anatel (Dados de 2016 em diante).\",\"link\":\"https://www.anatel.gov.br\\\\\\\\dadosabertos\\\\\\\\PDA\\\\\\\\Medicoes_Campo_Eletromagnetico\\\\\\\\Medicoes_de_Campos_Eletromagneticos_2016-2020.csv\",\"formato\":\"csv\",\"tipo\":null}'.encode()\n",
    "# #response = requests.post('https://dados.gov.br/api/publico/recurso/registrar-download', cookies=cookies, headers=headers, data=data)"
   ]
  },
  {
   "cell_type": "code",
   "execution_count": 1,
   "id": "da6fc4d9",
   "metadata": {
    "ExecuteTime": {
     "end_time": "2022-11-30T15:01:12.910273Z",
     "start_time": "2022-11-30T15:01:09.298007Z"
    }
   },
   "outputs": [
    {
     "name": "stderr",
     "output_type": "stream",
     "text": [
      "<ipython-input-1-733ccfbd040e>:4: DtypeWarning: Columns (12) have mixed types. Specify dtype option on import or set low_memory=False.\n",
      "  df = pd.read_csv('Medicoes_de_Campos_Eletromagneticos_2016-2020.csv', sep = ';')\n"
     ]
    },
    {
     "data": {
      "text/html": [
       "<div>\n",
       "<style scoped>\n",
       "    .dataframe tbody tr th:only-of-type {\n",
       "        vertical-align: middle;\n",
       "    }\n",
       "\n",
       "    .dataframe tbody tr th {\n",
       "        vertical-align: top;\n",
       "    }\n",
       "\n",
       "    .dataframe thead th {\n",
       "        text-align: right;\n",
       "    }\n",
       "</style>\n",
       "<table border=\"1\" class=\"dataframe\">\n",
       "  <thead>\n",
       "    <tr style=\"text-align: right;\">\n",
       "      <th></th>\n",
       "      <th>Responsável</th>\n",
       "      <th>Nome Responsável</th>\n",
       "      <th>Data da Medicao</th>\n",
       "      <th>Hora da Medicao</th>\n",
       "      <th>Tipo de Medicao</th>\n",
       "      <th>Latitude</th>\n",
       "      <th>Longitude</th>\n",
       "      <th>Municipio</th>\n",
       "      <th>UF</th>\n",
       "      <th>Valor Medio</th>\n",
       "      <th>% do Limite</th>\n",
       "      <th>Número Estação</th>\n",
       "      <th>Operadora da Estação</th>\n",
       "    </tr>\n",
       "  </thead>\n",
       "  <tbody>\n",
       "    <tr>\n",
       "      <th>0</th>\n",
       "      <td>ANATEL</td>\n",
       "      <td>Agencia Nacional de Telecomunicacoes</td>\n",
       "      <td>01/01/2016</td>\n",
       "      <td>00:00:00</td>\n",
       "      <td>Fixas</td>\n",
       "      <td>-30,046873</td>\n",
       "      <td>-51,206071</td>\n",
       "      <td>Porto Alegre</td>\n",
       "      <td>RS</td>\n",
       "      <td>0,27</td>\n",
       "      <td>0,01%</td>\n",
       "      <td>N/I</td>\n",
       "      <td>NaN</td>\n",
       "    </tr>\n",
       "    <tr>\n",
       "      <th>1</th>\n",
       "      <td>ANATEL</td>\n",
       "      <td>Agencia Nacional de Telecomunicacoes</td>\n",
       "      <td>01/01/2016</td>\n",
       "      <td>00:00:00</td>\n",
       "      <td>Fixas</td>\n",
       "      <td>-30,046873</td>\n",
       "      <td>-51,206071</td>\n",
       "      <td>Porto Alegre</td>\n",
       "      <td>RS</td>\n",
       "      <td>0,4</td>\n",
       "      <td>0,02%</td>\n",
       "      <td>N/I</td>\n",
       "      <td>NaN</td>\n",
       "    </tr>\n",
       "    <tr>\n",
       "      <th>2</th>\n",
       "      <td>ANATEL</td>\n",
       "      <td>Agencia Nacional de Telecomunicacoes</td>\n",
       "      <td>01/01/2016</td>\n",
       "      <td>00:00:00</td>\n",
       "      <td>Fixas</td>\n",
       "      <td>-27,59764</td>\n",
       "      <td>-48,54856</td>\n",
       "      <td>Florianópolis</td>\n",
       "      <td>SC</td>\n",
       "      <td>0,48</td>\n",
       "      <td>0,03%</td>\n",
       "      <td>N/I</td>\n",
       "      <td>NaN</td>\n",
       "    </tr>\n",
       "  </tbody>\n",
       "</table>\n",
       "</div>"
      ],
      "text/plain": [
       "  Responsável                      Nome Responsável Data da Medicao  \\\n",
       "0      ANATEL  Agencia Nacional de Telecomunicacoes      01/01/2016   \n",
       "1      ANATEL  Agencia Nacional de Telecomunicacoes      01/01/2016   \n",
       "2      ANATEL  Agencia Nacional de Telecomunicacoes      01/01/2016   \n",
       "\n",
       "  Hora da Medicao Tipo de Medicao    Latitude   Longitude      Municipio  UF  \\\n",
       "0        00:00:00           Fixas  -30,046873  -51,206071   Porto Alegre  RS   \n",
       "1        00:00:00           Fixas  -30,046873  -51,206071   Porto Alegre  RS   \n",
       "2        00:00:00           Fixas   -27,59764   -48,54856  Florianópolis  SC   \n",
       "\n",
       "  Valor Medio % do Limite Número Estação Operadora da Estação  \n",
       "0        0,27       0,01%            N/I                  NaN  \n",
       "1         0,4       0,02%            N/I                  NaN  \n",
       "2        0,48       0,03%            N/I                  NaN  "
      ]
     },
     "execution_count": 1,
     "metadata": {},
     "output_type": "execute_result"
    }
   ],
   "source": [
    "import pandas as pd\n",
    "import matplotlib.pyplot as plt\n",
    "from sklearn.cluster import KMeans\n",
    "df = pd.read_csv('Medicoes_de_Campos_Eletromagneticos_2016-2020.csv', sep = ';')\n",
    "df.head(3)"
   ]
  },
  {
   "cell_type": "code",
   "execution_count": 9,
   "id": "807f37d2",
   "metadata": {
    "ExecuteTime": {
     "end_time": "2022-11-30T15:07:45.160580Z",
     "start_time": "2022-11-30T15:07:43.665671Z"
    }
   },
   "outputs": [
    {
     "data": {
      "text/html": [
       "<div>\n",
       "<style scoped>\n",
       "    .dataframe tbody tr th:only-of-type {\n",
       "        vertical-align: middle;\n",
       "    }\n",
       "\n",
       "    .dataframe tbody tr th {\n",
       "        vertical-align: top;\n",
       "    }\n",
       "\n",
       "    .dataframe thead th {\n",
       "        text-align: right;\n",
       "    }\n",
       "</style>\n",
       "<table border=\"1\" class=\"dataframe\">\n",
       "  <thead>\n",
       "    <tr style=\"text-align: right;\">\n",
       "      <th></th>\n",
       "      <th>Responsável</th>\n",
       "      <th>Nome Responsável</th>\n",
       "      <th>Data da Medicao</th>\n",
       "      <th>Hora da Medicao</th>\n",
       "      <th>Tipo de Medicao</th>\n",
       "      <th>Latitude</th>\n",
       "      <th>Longitude</th>\n",
       "      <th>Municipio</th>\n",
       "      <th>UF</th>\n",
       "      <th>Valor Medio</th>\n",
       "      <th>% do Limite</th>\n",
       "      <th>Número Estação</th>\n",
       "      <th>Operadora da Estação</th>\n",
       "    </tr>\n",
       "  </thead>\n",
       "  <tbody>\n",
       "    <tr>\n",
       "      <th>0</th>\n",
       "      <td>ANATEL</td>\n",
       "      <td>Agencia Nacional de Telecomunicacoes</td>\n",
       "      <td>01/01/2016</td>\n",
       "      <td>00:00:00</td>\n",
       "      <td>Fixas</td>\n",
       "      <td>-30.046873</td>\n",
       "      <td>-51.206071</td>\n",
       "      <td>Porto Alegre</td>\n",
       "      <td>RS</td>\n",
       "      <td>0.27</td>\n",
       "      <td>0.01</td>\n",
       "      <td>N/I</td>\n",
       "      <td>nan</td>\n",
       "    </tr>\n",
       "    <tr>\n",
       "      <th>1</th>\n",
       "      <td>ANATEL</td>\n",
       "      <td>Agencia Nacional de Telecomunicacoes</td>\n",
       "      <td>01/01/2016</td>\n",
       "      <td>00:00:00</td>\n",
       "      <td>Fixas</td>\n",
       "      <td>-30.046873</td>\n",
       "      <td>-51.206071</td>\n",
       "      <td>Porto Alegre</td>\n",
       "      <td>RS</td>\n",
       "      <td>0.40</td>\n",
       "      <td>0.02</td>\n",
       "      <td>N/I</td>\n",
       "      <td>nan</td>\n",
       "    </tr>\n",
       "    <tr>\n",
       "      <th>2</th>\n",
       "      <td>ANATEL</td>\n",
       "      <td>Agencia Nacional de Telecomunicacoes</td>\n",
       "      <td>01/01/2016</td>\n",
       "      <td>00:00:00</td>\n",
       "      <td>Fixas</td>\n",
       "      <td>-27.597640</td>\n",
       "      <td>-48.548560</td>\n",
       "      <td>Florianópolis</td>\n",
       "      <td>SC</td>\n",
       "      <td>0.48</td>\n",
       "      <td>0.03</td>\n",
       "      <td>N/I</td>\n",
       "      <td>nan</td>\n",
       "    </tr>\n",
       "    <tr>\n",
       "      <th>3</th>\n",
       "      <td>ANATEL</td>\n",
       "      <td>Agencia Nacional de Telecomunicacoes</td>\n",
       "      <td>01/01/2016</td>\n",
       "      <td>00:00:00</td>\n",
       "      <td>Fixas</td>\n",
       "      <td>-25.435801</td>\n",
       "      <td>-49.283723</td>\n",
       "      <td>Curitiba</td>\n",
       "      <td>PR</td>\n",
       "      <td>1.76</td>\n",
       "      <td>0.40</td>\n",
       "      <td>N/I</td>\n",
       "      <td>nan</td>\n",
       "    </tr>\n",
       "    <tr>\n",
       "      <th>4</th>\n",
       "      <td>ANATEL</td>\n",
       "      <td>Agencia Nacional de Telecomunicacoes</td>\n",
       "      <td>01/01/2016</td>\n",
       "      <td>00:00:00</td>\n",
       "      <td>Fixas</td>\n",
       "      <td>-20.455133</td>\n",
       "      <td>-54.608875</td>\n",
       "      <td>Campo Grande</td>\n",
       "      <td>MS</td>\n",
       "      <td>0.22</td>\n",
       "      <td>0.01</td>\n",
       "      <td>N/I</td>\n",
       "      <td>nan</td>\n",
       "    </tr>\n",
       "  </tbody>\n",
       "</table>\n",
       "</div>"
      ],
      "text/plain": [
       "  Responsável                      Nome Responsável Data da Medicao  \\\n",
       "0      ANATEL  Agencia Nacional de Telecomunicacoes      01/01/2016   \n",
       "1      ANATEL  Agencia Nacional de Telecomunicacoes      01/01/2016   \n",
       "2      ANATEL  Agencia Nacional de Telecomunicacoes      01/01/2016   \n",
       "3      ANATEL  Agencia Nacional de Telecomunicacoes      01/01/2016   \n",
       "4      ANATEL  Agencia Nacional de Telecomunicacoes      01/01/2016   \n",
       "\n",
       "  Hora da Medicao Tipo de Medicao   Latitude  Longitude      Municipio  UF  \\\n",
       "0        00:00:00           Fixas -30.046873 -51.206071   Porto Alegre  RS   \n",
       "1        00:00:00           Fixas -30.046873 -51.206071   Porto Alegre  RS   \n",
       "2        00:00:00           Fixas -27.597640 -48.548560  Florianópolis  SC   \n",
       "3        00:00:00           Fixas -25.435801 -49.283723       Curitiba  PR   \n",
       "4        00:00:00           Fixas -20.455133 -54.608875   Campo Grande  MS   \n",
       "\n",
       "   Valor Medio  % do Limite Número Estação Operadora da Estação  \n",
       "0         0.27         0.01            N/I                  nan  \n",
       "1         0.40         0.02            N/I                  nan  \n",
       "2         0.48         0.03            N/I                  nan  \n",
       "3         1.76         0.40            N/I                  nan  \n",
       "4         0.22         0.01            N/I                  nan  "
      ]
     },
     "execution_count": 9,
     "metadata": {},
     "output_type": "execute_result"
    }
   ],
   "source": [
    "df['Latitude'] = df['Latitude'].str.replace(',','.')\n",
    "df['Longitude'] = df['Longitude'].str.replace(',','.')\n",
    "df['Valor Medio'] = df['Valor Medio'].str.replace(',','.')\n",
    "df['% do Limite'] = df['% do Limite'].str.replace(',','.')\n",
    "df['% do Limite'] = df['% do Limite'].str.replace('%','')\n",
    "\n",
    "df = df.astype({\n",
    "    'Responsável': 'str', \n",
    "    'Nome Responsável': 'str',\n",
    "    'Data da Medicao': 'str',\n",
    "    'Hora da Medicao': 'str',\n",
    "    'Tipo de Medicao': 'str',\n",
    "    'Latitude': 'float',\n",
    "    'Longitude': 'float',\n",
    "    'Municipio': 'str',\n",
    "    'UF': 'str',\n",
    "    'Valor Medio': 'float',\n",
    "    '% do Limite': 'float',\n",
    "    'Número Estação': 'str',\n",
    "    'Operadora da Estação': 'str',\n",
    "})\n",
    "\n",
    "df.head()"
   ]
  },
  {
   "cell_type": "code",
   "execution_count": 11,
   "id": "23b0bbbb",
   "metadata": {
    "ExecuteTime": {
     "end_time": "2022-11-30T15:09:09.684525Z",
     "start_time": "2022-11-30T15:09:04.366638Z"
    }
   },
   "outputs": [
    {
     "name": "stdout",
     "output_type": "stream",
     "text": [
      "<class 'pandas.core.frame.DataFrame'>\n",
      "RangeIndex: 642584 entries, 0 to 642583\n",
      "Data columns (total 13 columns):\n",
      " #   Column                Non-Null Count   Dtype  \n",
      "---  ------                --------------   -----  \n",
      " 0   Responsável           642584 non-null  object \n",
      " 1   Nome Responsável      642584 non-null  object \n",
      " 2   Data da Medicao       642584 non-null  object \n",
      " 3   Hora da Medicao       642584 non-null  object \n",
      " 4   Tipo de Medicao       642584 non-null  object \n",
      " 5   Latitude              642584 non-null  float64\n",
      " 6   Longitude             642584 non-null  float64\n",
      " 7   Municipio             642584 non-null  object \n",
      " 8   UF                    642584 non-null  object \n",
      " 9   Valor Medio           642584 non-null  float64\n",
      " 10  % do Limite           642584 non-null  float64\n",
      " 11  Número Estação        642584 non-null  object \n",
      " 12  Operadora da Estação  642584 non-null  object \n",
      "dtypes: float64(4), object(9)\n",
      "memory usage: 63.7+ MB\n"
     ]
    }
   ],
   "source": [
    "df.to_csv('novo.csv', index = False)\n",
    "df.info()"
   ]
  },
  {
   "cell_type": "code",
   "execution_count": null,
   "id": "68bd1fd4",
   "metadata": {
    "ExecuteTime": {
     "end_time": "2022-11-30T14:10:51.051532Z",
     "start_time": "2022-11-30T14:10:50.329924Z"
    }
   },
   "outputs": [],
   "source": [
    "df['Latitude'] = df['Latitude'].str.replace(',','.')\n",
    "df['Longitude'] = df['Longitude'].str.replace(',','.')\n",
    "\n",
    "df['Latitude'] = df['Latitude'].astype(float)\n",
    "df['Longitude'] = df['Longitude'].astype(float)\n",
    "\n",
    "df.head()"
   ]
  },
  {
   "cell_type": "code",
   "execution_count": null,
   "id": "7a752f25",
   "metadata": {
    "ExecuteTime": {
     "end_time": "2022-11-30T14:11:01.050217Z",
     "start_time": "2022-11-30T14:11:00.214392Z"
    }
   },
   "outputs": [],
   "source": [
    "df.info()"
   ]
  },
  {
   "cell_type": "code",
   "execution_count": null,
   "id": "6e7fcead",
   "metadata": {
    "ExecuteTime": {
     "end_time": "2022-11-30T14:25:29.374481Z",
     "start_time": "2022-11-30T14:25:16.261128Z"
    }
   },
   "outputs": [],
   "source": [
    "def plot_kmeans(k,df,xcol,ycol):\n",
    "    #application of kmeans\n",
    "    X = df[[xcol,ycol]]\n",
    "    kmeans = KMeans(n_clusters=k)\n",
    "    kmeans.fit(X)\n",
    "    predictions = kmeans.predict(X)\n",
    "\n",
    "    #comparing kmeans result to plotting grouping by labelling variable\n",
    "    fig, axs = plt.subplots(1,1, figsize=(15,4))\n",
    "\n",
    "    scatter = axs.scatter(X[xcol], X[ycol], c = predictions, label = predictions)\n",
    "    axs.set_title('KMeans')\n",
    "    legend1 = axs.legend(*scatter.legend_elements(), loc=\"upper right\", title=\"Classes\")\n",
    "    axs.add_artist(legend1)\n",
    "    axs.set_xlabel(xcol)\n",
    "    axs.set_ylabel(ycol)\n",
    "    \n",
    "plot_kmeans(5, df, 'Latitude', 'Longitude')"
   ]
  },
  {
   "cell_type": "code",
   "execution_count": null,
   "id": "49df7d95",
   "metadata": {
    "ExecuteTime": {
     "end_time": "2022-11-30T13:54:41.701544Z",
     "start_time": "2022-11-30T13:54:41.626719Z"
    }
   },
   "outputs": [],
   "source": [
    "df[df['UF'] == 'DF']"
   ]
  },
  {
   "cell_type": "code",
   "execution_count": null,
   "id": "9e5faff1",
   "metadata": {
    "ExecuteTime": {
     "end_time": "2022-11-30T14:32:32.960542Z",
     "start_time": "2022-11-30T14:32:32.712859Z"
    }
   },
   "outputs": [],
   "source": [
    "fdf = df.copy()\n",
    "latmin = min(fdf['Latitude'])\n",
    "latmax = max(fdf['Latitude'])\n",
    "longmin = min(fdf['Longitude'])\n",
    "longmax = max(fdf['Longitude'])\n",
    "print(f'latmin: {latmin}\\nlatmax: {latmax}\\nlongmin: {longmin}\\nlongmax: {longmax}\\n')\n",
    "\n",
    "# BBox = ((longmin, longmax, latmin, latmax))\n",
    "\n",
    "# fig, ax = plt.subplots(figsize = (8,7))\n",
    "# ax.scatter(fdf.Longitude, fdf.Latitude, c='b')\n",
    "# ax.set_title('Plotting Spatial Data on Riyadh Map')\n",
    "# ax.set_xlim(BBox[0],BBox[1])\n",
    "# ax.set_ylim(BBox[2],BBox[3])\n",
    "# # ax.imshow(ruh_m, zorder=0, extent = BBox, aspect= 'equal')"
   ]
  }
 ],
 "metadata": {
  "hide_input": false,
  "kernelspec": {
   "display_name": "Python 3",
   "language": "python",
   "name": "python3"
  },
  "language_info": {
   "codemirror_mode": {
    "name": "ipython",
    "version": 3
   },
   "file_extension": ".py",
   "mimetype": "text/x-python",
   "name": "python",
   "nbconvert_exporter": "python",
   "pygments_lexer": "ipython3",
   "version": "3.8.8"
  },
  "varInspector": {
   "cols": {
    "lenName": 16,
    "lenType": 16,
    "lenVar": 40
   },
   "kernels_config": {
    "python": {
     "delete_cmd_postfix": "",
     "delete_cmd_prefix": "del ",
     "library": "var_list.py",
     "varRefreshCmd": "print(var_dic_list())"
    },
    "r": {
     "delete_cmd_postfix": ") ",
     "delete_cmd_prefix": "rm(",
     "library": "var_list.r",
     "varRefreshCmd": "cat(var_dic_list()) "
    }
   },
   "types_to_exclude": [
    "module",
    "function",
    "builtin_function_or_method",
    "instance",
    "_Feature"
   ],
   "window_display": false
  }
 },
 "nbformat": 4,
 "nbformat_minor": 5
}
